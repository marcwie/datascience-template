{
 "cells": [
  {
   "cell_type": "code",
   "execution_count": null,
   "id": "320d2912-e065-45ae-bf1f-42bf2524234a",
   "metadata": {},
   "outputs": [],
   "source": [
    "%load_ext autoreload\n",
    "%autoreload 2\n",
    "\n",
    "import hydra\n",
    "import os\n",
    "import datetime\n",
    "from pathlib import Path\n",
    "\n",
    "# Initialize hydra and move to the root of the repository\n",
    "try:\n",
    "    hydra.initialize(version_base=None, config_path=\"../config/\")\n",
    "    CONFIG = hydra.compose(config_name=\"main.yaml\")\n",
    "    print('Initializing hydra')\n",
    "except:\n",
    "    print('Hydra already initalized!')\n",
    "else:\n",
    "    # Create an output folder in the root of the repository\n",
    "    os.chdir('..')\n",
    "    OUTPUT_FOLDER = Path('output/{0}'.format(datetime.datetime.now()))\n",
    "    Path(OUTPUT_FOLDER).mkdir(parents=True, exist_ok=True)"
   ]
  }
 ],
 "metadata": {
  "kernelspec": {
   "display_name": "Python 3 (ipykernel)",
   "language": "python",
   "name": "python3"
  },
  "language_info": {
   "codemirror_mode": {
    "name": "ipython",
    "version": 3
   },
   "file_extension": ".py",
   "mimetype": "text/x-python",
   "name": "python",
   "nbconvert_exporter": "python",
   "pygments_lexer": "ipython3",
   "version": "3.12.1"
  }
 },
 "nbformat": 4,
 "nbformat_minor": 5
}
